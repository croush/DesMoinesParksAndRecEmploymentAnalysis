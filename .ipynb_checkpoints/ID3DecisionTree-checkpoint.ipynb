{
 "cells": [
  {
   "cell_type": "code",
   "execution_count": 18,
   "metadata": {
    "collapsed": false
   },
   "outputs": [
    {
     "name": "stdout",
     "output_type": "stream",
     "text": [
      "Unnamed: 0                             7\n",
      "Unnamed: 0.1                           7\n",
      "Name            MARLENE ANDERSON-BEATTIE\n",
      "Title                                 22\n",
      "Wage                            77706.70\n",
      "Rate                                37.4\n",
      "Years                               18.8\n",
      "Gender                                 0\n",
      "Name: 7, dtype: object\n"
     ]
    }
   ],
   "source": [
    "import pandas\n",
    "import numpy as np\n",
    "from sklearn import metrics\n",
    "from sklearn import model_selection as cv\n",
    "from sklearn import preprocessing\n",
    "\n",
    "\n",
    "data = pandas.read_csv('employee_data_plus_gender.csv')\n",
    "le = preprocessing.LabelEncoder()\n",
    "\n",
    "data[\"Name\"] = data[\"Name\"].map(str.strip)\n",
    "data[\"Title\"] = data[\"Title\"].map(str.strip)\n",
    "data[\"Wage\"] = data[\"Wage\"].map(str.strip)\n",
    "data['Wage'] = data['Wage'].replace(',', '',regex=True)\n",
    "\n",
    "#0 is female, 1 is male\n",
    "data.Gender = le.fit_transform(data.Gender)\n",
    "data.Title = le.fit_transform(data.Title)\n",
    "\n",
    "attribs = [\"Wage\", \"Rate\", \"Title\"]\n",
    "print(data.ix[7])\n",
    "\n",
    "(train, test) = cv.train_test_split(data, test_size = 0.2)\n"
   ]
  },
  {
   "cell_type": "code",
   "execution_count": 23,
   "metadata": {
    "collapsed": false
   },
   "outputs": [
    {
     "name": "stdout",
     "output_type": "stream",
     "text": [
      "0.653846153846\n"
     ]
    }
   ],
   "source": [
    "from sklearn.tree import DecisionTreeClassifier\n",
    "dt = DecisionTreeClassifier()\n",
    "dt.fit(train[attribs],train[\"Gender\"])\n",
    "pred = dt.predict(test[attribs])\n",
    "print(metrics.accuracy_score(test[\"Gender\"], pred))"
   ]
  }
 ],
 "metadata": {
  "anaconda-cloud": {},
  "kernelspec": {
   "display_name": "Python [Root]",
   "language": "python",
   "name": "Python [Root]"
  },
  "language_info": {
   "codemirror_mode": {
    "name": "ipython",
    "version": 3
   },
   "file_extension": ".py",
   "mimetype": "text/x-python",
   "name": "python",
   "nbconvert_exporter": "python",
   "pygments_lexer": "ipython3",
   "version": "3.5.2"
  }
 },
 "nbformat": 4,
 "nbformat_minor": 0
}
