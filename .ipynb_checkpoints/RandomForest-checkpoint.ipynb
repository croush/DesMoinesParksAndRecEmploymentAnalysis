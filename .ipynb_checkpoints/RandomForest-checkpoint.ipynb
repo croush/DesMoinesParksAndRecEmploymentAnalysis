{
 "cells": [
  {
   "cell_type": "code",
   "execution_count": 1,
   "metadata": {
    "collapsed": false
   },
   "outputs": [
    {
     "name": "stdout",
     "output_type": "stream",
     "text": [
      "Unnamed: 0                             7\n",
      "Unnamed: 0.1                           7\n",
      "Name            MARLENE ANDERSON-BEATTIE\n",
      "Title                                 22\n",
      "Wage                            77706.70\n",
      "Rate                                37.4\n",
      "Years                               18.8\n",
      "Gender                                 0\n",
      "Name: 7, dtype: object\n"
     ]
    }
   ],
   "source": [
    "import pandas\n",
    "import numpy as np\n",
    "from sklearn import metrics\n",
    "from sklearn import model_selection as cv\n",
    "from sklearn import preprocessing\n",
    "\n",
    "\n",
    "data = pandas.read_csv('employee_data_plus_gender.csv')\n",
    "le = preprocessing.LabelEncoder()\n",
    "\n",
    "data[\"Name\"] = data[\"Name\"].map(str.strip)\n",
    "data[\"Title\"] = data[\"Title\"].map(str.strip)\n",
    "data[\"Wage\"] = data[\"Wage\"].map(str.strip)\n",
    "data['Wage'] = data['Wage'].replace(',', '',regex=True)\n",
    "\n",
    "#0 is female, 1 is male\n",
    "data.Gender = le.fit_transform(data.Gender)\n",
    "data.Title = le.fit_transform(data.Title)\n",
    "\n",
    "attribs = [\"Wage\", \"Rate\", \"Title\"]\n",
    "\n",
    "(train, test) = cv.train_test_split(data, test_size = 0.2)\n",
    "\n"
   ]
  },
  {
   "cell_type": "code",
   "execution_count": 17,
   "metadata": {
    "collapsed": false
   },
   "outputs": [
    {
     "name": "stdout",
     "output_type": "stream",
     "text": [
      "0.769230769231\n"
     ]
    }
   ],
   "source": [
    "from sklearn.ensemble import RandomForestClassifier\n",
    "rf = RandomForestClassifier(n_estimators=100)\n",
    "rf.fit(train[attribs],train[\"Gender\"])\n",
    "preds = rf.predict(test[attribs])\n",
    "print(metrics.accuracy_score(test[\"Gender\"], preds))"
   ]
  },
  {
   "cell_type": "code",
   "execution_count": 41,
   "metadata": {
    "collapsed": false
   },
   "outputs": [
    {
     "name": "stdout",
     "output_type": "stream",
     "text": [
      "{'min_samples_split': 9, 'criterion': 'entropy', 'bootstrap': True, 'max_depth': 3, 'min_samples_leaf': 8, 'max_features': 2}\n",
      "0.803921568627\n",
      "RandomForestClassifier(bootstrap=True, class_weight=None, criterion='entropy',\n",
      "            max_depth=3, max_features=2, max_leaf_nodes=None,\n",
      "            min_impurity_split=1e-07, min_samples_leaf=8,\n",
      "            min_samples_split=9, min_weight_fraction_leaf=0.0,\n",
      "            n_estimators=10, n_jobs=1, oob_score=False, random_state=None,\n",
      "            verbose=0, warm_start=False)\n"
     ]
    }
   ],
   "source": [
    "from sklearn.model_selection import RandomizedSearchCV\n",
    "from scipy.stats import randint as sp_randint\n",
    "\n",
    "clf = RandomForestClassifier()\n",
    "# specify parameters and distributions to sample from\n",
    "param_dist = {\"max_depth\": [3, None],\n",
    "              \"max_features\": sp_randint(1, 3),\n",
    "              \"min_samples_split\": sp_randint(1, 11),\n",
    "              \"min_samples_leaf\": sp_randint(1, 11),\n",
    "              \"bootstrap\": [True, False],\n",
    "              \"criterion\": [\"gini\", \"entropy\"]}\n",
    "# run randomized search\n",
    "n_iter_search = 20\n",
    "random_search = RandomizedSearchCV(clf, param_distributions=param_dist,n_iter=n_iter_search)\n",
    "\n",
    "random_search.fit(train[attribs], train[\"Gender\"])\n",
    "print(random_search.best_params_)\n",
    "print(random_search.best_score_)\n",
    "print(random_search.best_estimator_)"
   ]
  },
  {
   "cell_type": "code",
   "execution_count": null,
   "metadata": {
    "collapsed": true
   },
   "outputs": [],
   "source": []
  }
 ],
 "metadata": {
  "kernelspec": {
   "display_name": "Python [Root]",
   "language": "python",
   "name": "Python [Root]"
  },
  "language_info": {
   "codemirror_mode": {
    "name": "ipython",
    "version": 3
   },
   "file_extension": ".py",
   "mimetype": "text/x-python",
   "name": "python",
   "nbconvert_exporter": "python",
   "pygments_lexer": "ipython3",
   "version": "3.5.2"
  }
 },
 "nbformat": 4,
 "nbformat_minor": 0
}
