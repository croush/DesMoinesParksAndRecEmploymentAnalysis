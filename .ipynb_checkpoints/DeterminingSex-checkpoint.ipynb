{
 "cells": [
  {
   "cell_type": "code",
   "execution_count": 32,
   "metadata": {
    "collapsed": false
   },
   "outputs": [
    {
     "name": "stdout",
     "output_type": "stream",
     "text": [
      "['male']\n",
      "female\n",
      "female\n",
      "0.74\n",
      "Most Informative Features\n",
      "             last_letter = 'a'            female : male   =     35.5 : 1.0\n",
      "             last_letter = 'k'              male : female =     32.0 : 1.0\n",
      "             last_letter = 'f'              male : female =     16.8 : 1.0\n",
      "             last_letter = 'p'              male : female =     12.0 : 1.0\n",
      "             last_letter = 'v'              male : female =     11.3 : 1.0\n",
      "None\n"
     ]
    }
   ],
   "source": [
    "#One of the biggest problems in this project is determining sex, an attribute not disclosed from the data source.\n",
    "#This notebook's project is to use NLTK and Naive Bayes to (try to)determine sex and assign\n",
    "#each employee's sex to their respective row.\n",
    "\n",
    "\n",
    "\n",
    "import nltk\n",
    "from nltk import NaiveBayesClassifier\n",
    "# Corpus which consists of male and female names dataset\n",
    "from nltk.corpus import names\n",
    "# For shuffling\n",
    "import random\n",
    "from sklearn.model_selection import train_test_split\n",
    "\n",
    "\n",
    "#returns the attribute (feature?) to use\n",
    "def which_attribs(n):\n",
    "    return{\"last_letter\": n[-1]}\n",
    "    \n",
    "def gender_features(word):\n",
    "    \"\"\" feature extractor for the name classifier\n",
    "    The feature evaluated here is the last letter of a name\n",
    "    feature name - \"last_letter\"\n",
    "    \"\"\"\n",
    "    return {\"last_letter\": word[-1]}  # feature set\n",
    "\n",
    "    # Extract the data sets\n",
    "labeled_names = ([(name, \"male\") for name in names.words(\"male.txt\")] +\n",
    "                     [(name, \"female\") for name in names.words(\"female.txt\")])\n",
    "      # Shuffle the names in the list\n",
    "random.shuffle(labeled_names)\n",
    "\n",
    "    # Process the names through feature extractor\n",
    "feature_sets = [(gender_features(n), gender)\n",
    "                    for (n, gender) in labeled_names]\n",
    "#print(feature_sets)\n",
    "    # Divide the feature sets into training and test sets\n",
    "#train_set, test_set = feature_sets[500:], feature_sets[:500]\n",
    "(train_data, test_data, train_target, test_target)= train_test_split(feature_sets[0], feature_sets[1], test_size = 0.2)\n",
    "\n",
    "print(train_data)\n",
    "\n",
    "    # Train the naiveBayes classifier\n",
    "classifier = nltk.NaiveBayesClassifier.train(train_set)\n",
    "\n",
    "    # Test out the classifier with few samples outside of training set\n",
    "print(classifier.classify(gender_features(\"rae\")))  # returns male\n",
    "print(classifier.classify(gender_features(\"trinity\")))  # returns female\n",
    "\n",
    "\n",
    "      # Test the accuracy of the classifier on the test data\n",
    "print(nltk.classify.accuracy(classifier, test_set))  # returns 0.78 for now\n",
    "\n",
    "    # examine classifier to determine which feature is most effective for\n",
    "    # distinguishing the name's gender\n",
    "print(classifier.show_most_informative_features(5))\n",
    "\n",
    "\n"
   ]
  },
  {
   "cell_type": "code",
   "execution_count": 25,
   "metadata": {
    "collapsed": false
   },
   "outputs": [
    {
     "data": {
      "text/plain": [
       "'female'"
      ]
     },
     "execution_count": 25,
     "metadata": {},
     "output_type": "execute_result"
    }
   ],
   "source": [
    "classifier.classify(gender_features(\"rae\"))"
   ]
  },
  {
   "cell_type": "code",
   "execution_count": null,
   "metadata": {
    "collapsed": true
   },
   "outputs": [],
   "source": []
  }
 ],
 "metadata": {
  "kernelspec": {
   "display_name": "Python [Root]",
   "language": "python",
   "name": "Python [Root]"
  },
  "language_info": {
   "codemirror_mode": {
    "name": "ipython",
    "version": 3
   },
   "file_extension": ".py",
   "mimetype": "text/x-python",
   "name": "python",
   "nbconvert_exporter": "python",
   "pygments_lexer": "ipython3",
   "version": "3.5.2"
  }
 },
 "nbformat": 4,
 "nbformat_minor": 0
}
