{
 "cells": [
  {
   "cell_type": "code",
   "execution_count": 16,
   "metadata": {
    "collapsed": false
   },
   "outputs": [],
   "source": [
    "import pandas\n",
    "import numpy as np\n",
    "from sklearn import metrics\n",
    "from sklearn import model_selection as cv\n",
    "from sklearn import preprocessing\n",
    "\n",
    "\n",
    "data = pandas.read_csv('EmployeeData.csv')\n",
    "le = preprocessing.LabelEncoder()\n",
    "\n",
    "\n",
    "data.Sex = le.fit_transform(data.Sex)\n",
    "data.Dept = le.fit_transform(data.Dept)\n",
    "#data.Title = le.fit_transform(data.Title)\n",
    "#print(data)\n",
    "\n",
    "(train, test) = cv.train_test_split(data, test_size = 0.2)\n"
   ]
  },
  {
   "cell_type": "code",
   "execution_count": 22,
   "metadata": {
    "collapsed": false
   },
   "outputs": [
    {
     "name": "stdout",
     "output_type": "stream",
     "text": [
      "65\n",
      "65\n"
     ]
    }
   ],
   "source": [
    "from sklearn.tree import DecisionTreeClassifier\n",
    "\n",
    "#First, we'll try to classify FT or PT using sex only\n",
    "dtClf = DecisionTreeClassifier()\n",
    "dtClf.fit(train['Sex'],train['Status'])"
   ]
  },
  {
   "cell_type": "code",
   "execution_count": 23,
   "metadata": {
    "collapsed": true
   },
   "outputs": [],
   "source": [
    "rr = pandas.read_csv('run_results.csv')\n",
    "for i in row:\n",
    "    if"
   ]
  },
  {
   "cell_type": "code",
   "execution_count": null,
   "metadata": {
    "collapsed": true
   },
   "outputs": [],
   "source": []
  }
 ],
 "metadata": {
  "kernelspec": {
   "display_name": "Python [Root]",
   "language": "python",
   "name": "Python [Root]"
  },
  "language_info": {
   "codemirror_mode": {
    "name": "ipython",
    "version": 3
   },
   "file_extension": ".py",
   "mimetype": "text/x-python",
   "name": "python",
   "nbconvert_exporter": "python",
   "pygments_lexer": "ipython3",
   "version": "3.5.2"
  }
 },
 "nbformat": 4,
 "nbformat_minor": 0
}
